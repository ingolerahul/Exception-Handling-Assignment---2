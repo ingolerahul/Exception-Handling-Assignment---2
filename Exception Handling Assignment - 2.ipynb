{
 "cells": [
  {
   "cell_type": "raw",
   "id": "eba1c88c-db65-4637-ba8e-aac57040acc6",
   "metadata": {},
   "source": [
    "Q1.Explain why we have to use the Exception class while creating a Custom Exception.\n",
    "# Note: Here Exception class refers to the base class for all the exceptions."
   ]
  },
  {
   "cell_type": "raw",
   "id": "898be1d6-e012-405e-91bc-d4ec405adb9e",
   "metadata": {},
   "source": [
    "ANS : When creating a custom exception in Python, it is recommended to inherit from the built-in Exception class or one of its subclasses.\n",
    "\n",
    "# In Python, the Exception class is at the top of the exception hierarchy. All built-in exceptions, such as ValueError, TypeError, and FileNotFoundError, ultimately inherit from the Exception class.\n",
    "\n",
    "# Using the Exception class allows your custom exception to be caught by a generic except block that catches all exceptions\n",
    "\n",
    "# Using the Exception class allows your custom exception to be caught by a generic except block that catches all exceptions. This is useful if you want to handle multiple custom exceptions or built-in exceptions in a similar way.\n",
    "\n",
    "# Many libraries and frameworks in Python are designed to work with exceptions that inherit from the Exception class. Using this convention ensures compatibility with these libraries and allows your custom exceptions to be seamlessly integrated into existing error-handling mechanisms.\n",
    "\n",
    "# Inheriting from the Exception class provides a clear and recognizable signal to other developers that your class is intended to be used for exception handling.\n",
    "When reading code, seeing that a class inherits from Exception immediately communicates its purpose.\n",
    "\n"
   ]
  },
  {
   "cell_type": "raw",
   "id": "69ff984f-ff35-4af0-98c5-f1608b266b1d",
   "metadata": {},
   "source": [
    "Q2. Write a python program to print Python Exception Hierarchy."
   ]
  },
  {
   "cell_type": "code",
   "execution_count": null,
   "id": "202e8ed5-dfd0-4ce0-9d38-2eede0f95344",
   "metadata": {},
   "outputs": [],
   "source": [
    "# ANS : \n",
    "\n",
    "\n",
    "def print_exception_hierarchy(exception_class, indent=0):\n",
    "    print('  ' * indent + exception_class.__name__)\n",
    "    for subclass in exception_class.__subclasses__():\n",
    "        print_exception_hierarchy(subclass, indent + 1)\n",
    "\n",
    "print(\"Python Exception Hierarchy:\")\n",
    "print_exception_hierarchy(BaseException)\n"
   ]
  },
  {
   "cell_type": "raw",
   "id": "1fc68e5b-d386-425a-aa67-a3da5ea1d536",
   "metadata": {},
   "source": [
    "Q3. What errors are defined in the ArithmeticError class? Explain any two with an example."
   ]
  },
  {
   "cell_type": "code",
   "execution_count": 9,
   "id": "db66a6df-ce4f-40f8-b2bb-371251a6a374",
   "metadata": {},
   "outputs": [
    {
     "name": "stdout",
     "output_type": "stream",
     "text": [
      "Error: division by zero\n",
      "Factorial: 93326215443944152681699238856266700490715968264381621468592963895217599993229915608941463976156518286253697920827223758251185210916864000000000000000000000000\n"
     ]
    }
   ],
   "source": [
    "# ANS : ArithmeticError is a base class for exceptions that arise during arithmetic operations in Python.\n",
    "#      It is part of the Python exception hierarchy and serves as the parent class for specific arithmetic-related exceptions.\n",
    "#      Two common exceptions that are subclasses of ArithmeticError are ZeroDivisionError and OverflowError\n",
    "\n",
    "#1. ZeroDivisionError:\n",
    "# This exception is raised when attempting to divide a number by zero.\n",
    "# Example:\n",
    "\n",
    "def divide_numbers(a, b):\n",
    "    try:\n",
    "        result = a / b\n",
    "        print(\"Result:\", result)\n",
    "    except ZeroDivisionError as e:\n",
    "        print(\"Error:\", e)\n",
    "\n",
    "# Example 1: Division by zero\n",
    "divide_numbers(10, 0)\n",
    "\n",
    "# 2. OverflowError:\n",
    "# This exception is raised when an arithmetic operation exceeds the limits of the data type.\n",
    "\n",
    "# Example:\n",
    "\n",
    "def calculate_factorial(n):\n",
    "    try:\n",
    "        result = 1\n",
    "        for i in range(1, n + 1):\n",
    "            result *= i\n",
    "        print(\"Factorial:\", result)\n",
    "    except OverflowError as e:\n",
    "        print(\"Error:\", e)\n",
    "\n",
    "# Example 2: OverflowError in factorial calculation\n",
    "calculate_factorial(100)"
   ]
  },
  {
   "cell_type": "raw",
   "id": "a8060dc6-c8ab-4e73-8586-d00b869ec8c5",
   "metadata": {},
   "source": [
    "Q4. Why LookupError class is used? Explain with an example KeyError and IndexError."
   ]
  },
  {
   "cell_type": "code",
   "execution_count": 23,
   "id": "a23081db-23c3-4b4c-9b69-4ef669be8ce2",
   "metadata": {},
   "outputs": [
    {
     "name": "stdout",
     "output_type": "stream",
     "text": [
      "Error: 'd'\n",
      "Error: list index out of range\n"
     ]
    }
   ],
   "source": [
    "# ANS :The LookupError class is a base class for exceptions that occur when a key or index is not found during a lookup operation. \n",
    "#      It is a parent class for several specific lookup-related exceptions, including KeyError and IndexError. \n",
    "#      The purpose of using the LookupError class is to catch and handle lookup-related errors in a generic way.\n",
    "\n",
    "# 1. KeyError:\n",
    "# This exception is raised when attempting to access a key in a dictionary that does not exist.\n",
    "\n",
    "# Example:\n",
    "\n",
    "def access_dictionary():\n",
    "    my_dict = {'a': 1, 'b': 2, 'c': 3}\n",
    "    try:\n",
    "        value = my_dict['d']  # 'd' is not a key in the dictionary\n",
    "        print(\"Value:\", value)\n",
    "    except KeyError as e:\n",
    "        print(\"Error:\", e)\n",
    "\n",
    "# Example: KeyError in dictionary access\n",
    "access_dictionary()\n",
    "\n",
    "\n",
    "# 2. IndexError:\n",
    "# This exception is raised when attempting to access an index in a sequence (such as a list or tuple) that is out of range.\n",
    "\n",
    "# Example:\n",
    "\n",
    "def access_list():\n",
    "    my_list = [1, 2, 3, 4, 5]\n",
    "    try:\n",
    "        value = my_list[10]  # Index 10 is out of range for the list\n",
    "        print(\"Value:\", value)\n",
    "    except IndexError as e:\n",
    "        print(\"Error:\", e)\n",
    "\n",
    "# Example: IndexError in list access\n",
    "access_list()"
   ]
  },
  {
   "cell_type": "raw",
   "id": "544fa297-94b5-4644-8e46-508ab78067c4",
   "metadata": {},
   "source": [
    "Q5. Explain ImportError. What is ModuleNotFoundError?"
   ]
  },
  {
   "cell_type": "code",
   "execution_count": 2,
   "id": "d1fa064e-c52b-483b-85bb-3837b9f02341",
   "metadata": {},
   "outputs": [
    {
     "name": "stdout",
     "output_type": "stream",
     "text": [
      "ImportError: No module named 'non_existent_module'\n",
      "ModuleNotFoundError: No module named 'non_existent_module'\n"
     ]
    }
   ],
   "source": [
    "# ANS : ImportError is an exception in Python that is raised when an import statement fails to import a module. \n",
    "#       It is a generic exception for import-related errors and serves as the base class for more specific import-related exceptions.\n",
    "#       One of the more specific exceptions that inherits from ImportError is ModuleNotFoundError.\n",
    "\n",
    "# 1.  ImportError:\n",
    "#     This exception is raised when an import statement encounters an error that is not more specifically handled by other import-related exceptions. \n",
    "#     It can occur for various reasons, such as a missing module or issues with the module's content.\n",
    "\n",
    "# Example:\n",
    "try:\n",
    "    # Attempting to import a module that does not exist\n",
    "    import non_existent_module\n",
    "except ImportError as e:\n",
    "    print(\"ImportError:\", e)\n",
    "\n",
    "# 2.  ModuleNotFoundError:\n",
    "#     ModuleNotFoundError is a more specific exception that inherits from ImportError. \n",
    "#     It is raised when the interpreter cannot find the specified module to import.\n",
    "\n",
    "# Example:\n",
    "\n",
    "try:\n",
    "    # Attempting to import a module that does not exist\n",
    "    import non_existent_module\n",
    "except ModuleNotFoundError as e:\n",
    "    print(\"ModuleNotFoundError:\", e)"
   ]
  },
  {
   "cell_type": "raw",
   "id": "5bc98264-c697-4bec-b9c6-dff251ba8d86",
   "metadata": {},
   "source": [
    "Q6. List down some best practices for exception handling in python."
   ]
  },
  {
   "cell_type": "markdown",
   "id": "426d610f-2eeb-4b6c-8096-41626bddc413",
   "metadata": {},
   "source": [
    "# ANS : (All Answers write down from different sources of websites)\n",
    "Exception handling is an essential aspect of writing robust and reliable Python code. Here are some best practices for effective exception handling in Python:\n",
    "\n",
    "### Be Specific in Exception Handling:\n",
    "\n",
    "Use specific exception classes whenever possible. Catching broad exceptions like Exception can lead to unintended consequences. Be precise in handling the exceptions relevant to your code. \n",
    "\n",
    "### Use try, except, else, and finally Blocks Wisely:\n",
    "\n",
    "Structure your exception handling with try for the main code, except for handling specific exceptions, else for code that should run if no exceptions occurred, and finally for cleanup tasks. This provides a clear and organized approach.\n",
    "\n",
    "### Avoid Bare except Statements:\n",
    "\n",
    "Avoid using a bare except statement without specifying the exception type. This can make debugging challenging and may hide unexpected issues.\n",
    "\n",
    "### Handle Exceptions Locally:\n",
    "\n",
    "Handle exceptions as close to the point of failure as possible. This makes the code more maintainable and helps pinpoint the source of issues.\n",
    "\n",
    "### Log Exceptions:\n",
    "\n",
    "Use logging to record information about exceptions. This aids in debugging and provides insights into the cause of errors.\n",
    "\n",
    "### Raise Exceptions When Necessary:\n",
    "\n",
    "Raise exceptions when your code encounters an error or unexpected situation. This communicates issues clearly to the calling code and allows for appropriate handling.\n",
    "\n",
    "### Consider Context Managers (with Statements):\n",
    "\n",
    "Use context managers (implemented with the with statement) to ensure proper resource management, such as file closing, even if exceptions occur.\n",
    "\n",
    "### Avoid Silent Failures:\n",
    "\n",
    "Avoid silent failures where exceptions are caught but not logged or reported. This can make it difficult to identify and troubleshoot problems.\n",
    "\n",
    "### Use Custom Exceptions Judiciously:\n",
    "\n",
    "Create custom exceptions when needed, especially if your code defines specific error conditions. This enhances clarity and allows for specialized handling.\n",
    "\n",
    "### Follow the EAFP (Easier to Ask for Forgiveness than Permission) Principle:\n",
    "\n",
    "Embrace the EAFP principle, which suggests trying an operation and handling exceptions if it fails, rather than checking beforehand whether the operation will succeed.\n",
    "\n",
    "### Test Exception Handling Code:\n",
    "\n",
    "Include tests for your exception handling code. Ensure that exceptions are raised and caught as expected under various conditions.\n",
    "\n",
    "### Document Exceptional Cases:\n",
    "\n",
    "Document potential exceptions, especially in function/method docstrings. Make it clear to users of your code what exceptions may be raised and in what situations.\n",
    "\n",
    "### Use finally for Cleanup:\n",
    "\n",
    "Place cleanup code in a finally block to ensure it runs whether an exception is raised or not. This is useful for tasks like closing files or releasing resources.\n",
    "\n",
    "### Handle Expected Exceptions:\n",
    "\n",
    "Anticipate and handle expected exceptions rather than relying on broad error-catching mechanisms. This promotes clarity and specific error handling."
   ]
  }
 ],
 "metadata": {
  "kernelspec": {
   "display_name": "Python 3 (ipykernel)",
   "language": "python",
   "name": "python3"
  },
  "language_info": {
   "codemirror_mode": {
    "name": "ipython",
    "version": 3
   },
   "file_extension": ".py",
   "mimetype": "text/x-python",
   "name": "python",
   "nbconvert_exporter": "python",
   "pygments_lexer": "ipython3",
   "version": "3.10.8"
  }
 },
 "nbformat": 4,
 "nbformat_minor": 5
}
